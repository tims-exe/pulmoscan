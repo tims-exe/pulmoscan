{
 "cells": [
  {
   "cell_type": "code",
   "execution_count": 1,
   "id": "a61eb0a7-a5bc-441b-b7f6-65bf7d0f050a",
   "metadata": {},
   "outputs": [],
   "source": [
    "from sklearn.model_selection import train_test_split\n",
    "from sklearn.preprocessing import LabelEncoder\n",
    "from sklearn.tree import DecisionTreeClassifier\n",
    "from sklearn.metrics import accuracy_score, classification_report\n",
    "import pandas as pd"
   ]
  },
  {
   "cell_type": "code",
   "execution_count": 2,
   "id": "09eab109-091f-4c77-8f43-a89152184cb3",
   "metadata": {},
   "outputs": [],
   "source": [
    "dataset = pd.read_csv('dataset/survey_dataset.csv')\n",
    "\n",
    "label_encoder_gender = LabelEncoder()\n",
    "dataset['GENDER'] = label_encoder_gender.fit_transform(dataset['GENDER'])\n",
    "\n",
    "label_encoder_lung_cancer = LabelEncoder()\n",
    "dataset['LUNG_CANCER'] = label_encoder_lung_cancer.fit_transform(dataset['LUNG_CANCER'])\n",
    "\n",
    "x = dataset.drop(columns=['LUNG_CANCER'])\n",
    "y = dataset['LUNG_CANCER']"
   ]
  },
  {
   "cell_type": "code",
   "execution_count": 3,
   "id": "8980839f-5c39-49c3-bd20-06eb368d9796",
   "metadata": {},
   "outputs": [],
   "source": [
    "x_train, x_test, y_train, y_test = train_test_split(x, y, test_size=0.25, random_state=42)"
   ]
  },
  {
   "cell_type": "code",
   "execution_count": 4,
   "id": "9f1779da-c98b-40f9-a948-9129ab306e67",
   "metadata": {},
   "outputs": [
    {
     "name": "stdout",
     "output_type": "stream",
     "text": [
      "Accuracy: 0.9615384615384616\n"
     ]
    }
   ],
   "source": [
    "model = DecisionTreeClassifier(random_state=42)\n",
    "model.fit(x_train, y_train)\n",
    "\n",
    "y_pred = model.predict(x_test)\n",
    "\n",
    "accuracy = accuracy_score(y_test, y_pred)\n",
    "print(f\"Accuracy: {accuracy}\")"
   ]
  }
 ],
 "metadata": {
  "kernelspec": {
   "display_name": "Python 3 (ipykernel)",
   "language": "python",
   "name": "python3"
  },
  "language_info": {
   "codemirror_mode": {
    "name": "ipython",
    "version": 3
   },
   "file_extension": ".py",
   "mimetype": "text/x-python",
   "name": "python",
   "nbconvert_exporter": "python",
   "pygments_lexer": "ipython3",
   "version": "3.12.4"
  }
 },
 "nbformat": 4,
 "nbformat_minor": 5
}
